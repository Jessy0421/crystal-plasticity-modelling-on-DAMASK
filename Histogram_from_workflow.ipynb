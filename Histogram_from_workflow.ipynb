{
 "cells": [
  {
   "cell_type": "code",
   "execution_count": null,
   "id": "a9b7f082",
   "metadata": {},
   "outputs": [],
   "source": [
    "import pandas as pd\n",
    "import matplotlib.pyplot as plt\n",
    "import numpy as np\n",
    "import matplotlib.patches as mpatches\n",
    "import math\n",
    "import scipy.stats as stats\n",
    "import seaborn as sns\n",
    "import statistics\n",
    "  \n",
    "from matflow import load_workflow"
   ]
  },
  {
   "cell_type": "code",
   "execution_count": null,
   "id": "73c9167f",
   "metadata": {},
   "outputs": [],
   "source": [
    "uni1_path = \"./Uniaxial_tension_1000_64_random\"\n",
    "uni2_path =  \"./Plane_strain_1000_64_random\"  "
   ]
  },
  {
   "cell_type": "code",
   "execution_count": null,
   "id": "54867d6c",
   "metadata": {},
   "outputs": [],
   "source": [
    "data_uni1 = load_workflow(uni1_path) #read the workflow \n",
    "data_uni2 = load_workflow(uni2_path) #read the workflow "
   ]
  },
  {
   "cell_type": "code",
   "execution_count": null,
   "id": "88423112",
   "metadata": {},
   "outputs": [],
   "source": [
    "print(data_uni1)  #see the tasks"
   ]
  },
  {
   "cell_type": "code",
   "execution_count": null,
   "id": "111be942",
   "metadata": {},
   "outputs": [],
   "source": [
    "print(data_uni2)  #see the tasks"
   ]
  },
  {
   "cell_type": "code",
   "execution_count": null,
   "id": "d099ca72",
   "metadata": {},
   "outputs": [],
   "source": [
    "stress_uni1=data_uni1.tasks[4].elements[0].outputs.volume_element_response['field_data']['sigma_vM']['data'][-1]\n",
    "strain_uni1=data_uni1.tasks[4].elements[0].outputs.volume_element_response['field_data']['epsilon_V^0(F)_vM']['data'][-1]\n",
    "stress_uni2=data_uni2.tasks[5].elements[0].outputs.volume_element_response['field_data']['sigma_vM']['data'][-1]\n",
    "strain_uni2=data_uni2.tasks[5].elements[0].outputs.volume_element_response['field_data']['epsilon_V^0(F)_vM']['data'][-1]"
   ]
  },
  {
   "cell_type": "code",
   "execution_count": null,
   "id": "26ea929a",
   "metadata": {},
   "outputs": [],
   "source": [
    "stress_uni1.shape"
   ]
  },
  {
   "cell_type": "code",
   "execution_count": null,
   "id": "fd9d953f",
   "metadata": {},
   "outputs": [],
   "source": [
    "flattened_data_stress_uni1 = stress_uni1.flatten()\n",
    "flattened_data_strain_uni1 = strain_uni1.flatten()\n",
    "flattened_data_stress_uni2 = stress_uni2.flatten()\n",
    "flattened_data_strain_uni2 = strain_uni2.flatten()"
   ]
  },
  {
   "cell_type": "code",
   "execution_count": null,
   "id": "056acfb8",
   "metadata": {},
   "outputs": [],
   "source": [
    "flattened_data_stress_uni1.shape"
   ]
  },
  {
   "cell_type": "code",
   "execution_count": null,
   "id": "9df73281",
   "metadata": {},
   "outputs": [],
   "source": [
    "numerical_data_Stress_uniaxial = [float(value) for value in flattened_data_Stress_uniaxial]\n",
    "numerical_data_Strain_uniaxial = [float(value) for value in flattened_data_Strain_uniaxial]\n",
    "\n",
    "avg_flattened_data_Stress_uniaxial = statistics.mean(numerical_data_Stress_uniaxial)\n",
    "avg_flattened_data_Strain_uniaxial = statistics.mean(numerical_data_Strain_uniaxial)\n",
    "\n",
    "print(\"Mean Stress:\", avg_flattened_data_Stress_uniaxial)"
   ]
  },
  {
   "cell_type": "code",
   "execution_count": null,
   "id": "8e612ee9",
   "metadata": {},
   "outputs": [],
   "source": [
    "norm_stress_uni1=flattened_data_stress_uni1/avg_flattened_data_stress_uni1\n",
    "norm_strain_uni1=flattened_data_strain_uni1/avg_flattened_data_strain_uni1\n",
    "norm_stress_uni2=flattened_data_stress_uni2/avg_flattened_data_stress_uni2\n",
    "norm_strain_uni2=flattened_data_strain_uni2/avg_flattened_data_strain_uni2"
   ]
  },
  {
   "cell_type": "code",
   "execution_count": null,
   "id": "5ee78820",
   "metadata": {},
   "outputs": [],
   "source": [
    "import numpy as np\n",
    "import seaborn as sns\n",
    "import matplotlib.pyplot as plt\n",
    "\n",
    "sns.set(style=\"darkgrid\")\n",
    "\n",
    "\n",
    "plt.figure(figsize=(10, 6))\n",
    "sns.kdeplot(norm_strain_uni1, color='blue', fill=True, label='Strain 1')\n",
    "sns.kdeplot(norm_strain_uni2, color='yellow', fill=True, label='Strain 2')\n",
    "\n",
    "plt.axvline(norm_strain_uni1.mean(), color='blue', linestyle='dashed', linewidth=1, label='Mean Strain uniaxial')\n",
    "plt.axvline(norm_strain_uni2.mean(), color='yellow', linestyle='dashed', linewidth=1, label='Mean Strain plane')\n",
    "\n",
    "plt.axvline(norm_strain_uni1.mean() + norm_strain_uni1.std(), color='blue', linestyle='dotted', linewidth=1, label='Std Strain uniaxial')\n",
    "plt.axvline(norm_strain_uni2.mean() + norm_strain_uni2.std(), color='yellow', linestyle='dotted', linewidth=1, label='Std Strain plane')\n",
    "\n",
    "plt.title('Title')\n",
    "plt.legend()\n",
    "plt.xlabel('Normalised VM Strain')\n",
    "plt.ylabel('Density')\n",
    "plt.xlim(0, 2.5) \n",
    "\n",
    "# Save the plot as a PNG file in the same folder where the Jupyter notebook is\n",
    "plt.savefig('histogram_plot_strain.png')"
   ]
  }
 ],
 "metadata": {
  "kernelspec": {
   "display_name": "Python 3 (ipykernel)",
   "language": "python",
   "name": "python3"
  },
  "language_info": {
   "codemirror_mode": {
    "name": "ipython",
    "version": 3
   },
   "file_extension": ".py",
   "mimetype": "text/x-python",
   "name": "python",
   "nbconvert_exporter": "python",
   "pygments_lexer": "ipython3",
   "version": "3.11.4"
  }
 },
 "nbformat": 4,
 "nbformat_minor": 5
}
